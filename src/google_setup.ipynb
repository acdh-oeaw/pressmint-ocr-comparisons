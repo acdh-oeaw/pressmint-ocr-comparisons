{
 "cells": [
  {
   "cell_type": "markdown",
   "id": "c77e8d10-655b-4a30-b3bc-621a9c0717bf",
   "metadata": {},
   "source": [
    "# Google Setup\n",
    "\n",
    "This notebook is just used to sync the colab drive main notebook `pressming_ocr.ipynb` with the github upstream.\n",
    "\n",
    "The cell below thus should **only** be executed within colab."
   ]
  },
  {
   "cell_type": "code",
   "execution_count": null,
   "id": "24622fe2-a751-4365-a70f-471420454b68",
   "metadata": {},
   "outputs": [],
   "source": [
    "# set up and sync project structure\n",
    "from google.colab import drive\n",
    "drive.mount('/content/drive')\n",
    "!git clone https://github.com/acdh-oeaw/pressmint-ocr-comparisons.git /content/drive/MyDrive/pressmint-ocr-comparisons/\n",
    "!ln -s /content/drive/MyDrive/pressmint-ocr-comparisons/data/ /data\n",
    "%cd /content/drive/MyDrive/pressmint-ocr-comparisons/\n",
    "!git reset --hard\n",
    "!git pull"
   ]
  }
 ],
 "metadata": {
  "kernelspec": {
   "display_name": "Python 3 (ipykernel)",
   "language": "python",
   "name": "python3"
  },
  "language_info": {
   "codemirror_mode": {
    "name": "ipython",
    "version": 3
   },
   "file_extension": ".py",
   "mimetype": "text/x-python",
   "name": "python",
   "nbconvert_exporter": "python",
   "pygments_lexer": "ipython3",
   "version": "3.9.2"
  }
 },
 "nbformat": 4,
 "nbformat_minor": 5
}
